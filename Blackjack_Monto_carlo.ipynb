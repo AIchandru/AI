{
  "nbformat": 4,
  "nbformat_minor": 0,
  "metadata": {
    "colab": {
      "provenance": []
    },
    "kernelspec": {
      "name": "python3",
      "display_name": "Python 3"
    },
    "language_info": {
      "name": "python"
    }
  },
  "cells": [
    {
      "cell_type": "code",
      "execution_count": 1,
      "metadata": {
        "colab": {
          "base_uri": "https://localhost:8080/"
        },
        "id": "Ll8KDlq2WgRW",
        "outputId": "b02a818c-327f-47d1-9de5-4f8bd11151ed"
      },
      "outputs": [
        {
          "output_type": "stream",
          "name": "stdout",
          "text": [
            "Simulations: 100000\n",
            "Wins: 40809 (40.81%)\n",
            "Losses: 48718 (48.72%)\n",
            "Ties: 10473 (10.47%)\n"
          ]
        }
      ],
      "source": [
        "import random\n",
        "\n",
        "# Constants\n",
        "NUM_SIMULATIONS = 100_000\n",
        "\n",
        "def draw_card():\n",
        "    card = random.choice([2, 3, 4, 5, 6, 7, 8, 9, 10, 10, 10, 10, 11])  # Face cards as 10, Ace as 11\n",
        "    return card\n",
        "\n",
        "def hand_value(hand):\n",
        "    value = sum(hand)\n",
        "    aces = hand.count(11)\n",
        "    while value > 21 and aces:\n",
        "        value -= 10  # Convert an Ace from 11 to 1\n",
        "        aces -= 1\n",
        "    return value\n",
        "\n",
        "def simulate_game():\n",
        "    player_hand = [draw_card(), draw_card()]\n",
        "    dealer_hand = [draw_card(), draw_card()]\n",
        "\n",
        "    # Player's turn: hit until 17 or more\n",
        "    while hand_value(player_hand) < 17:\n",
        "        player_hand.append(draw_card())\n",
        "\n",
        "    player_total = hand_value(player_hand)\n",
        "    if player_total > 21:\n",
        "        return -1  # Player busts\n",
        "\n",
        "    # Dealer's turn: hit until 17 or more\n",
        "    while hand_value(dealer_hand) < 17:\n",
        "        dealer_hand.append(draw_card())\n",
        "\n",
        "    dealer_total = hand_value(dealer_hand)\n",
        "    if dealer_total > 21:\n",
        "        return 1  # Dealer busts, player wins\n",
        "\n",
        "    # Compare hands\n",
        "    if player_total > dealer_total:\n",
        "        return 1\n",
        "    elif player_total < dealer_total:\n",
        "        return -1\n",
        "    else:\n",
        "        return 0  # Tie\n",
        "\n",
        "def monte_carlo_blackjack(n_simulations):\n",
        "    wins = 0\n",
        "    losses = 0\n",
        "    ties = 0\n",
        "\n",
        "    for _ in range(n_simulations):\n",
        "        result = simulate_game()\n",
        "        if result == 1:\n",
        "            wins += 1\n",
        "        elif result == -1:\n",
        "            losses += 1\n",
        "        else:\n",
        "            ties += 1\n",
        "\n",
        "    print(f\"Simulations: {n_simulations}\")\n",
        "    print(f\"Wins: {wins} ({wins / n_simulations:.2%})\")\n",
        "    print(f\"Losses: {losses} ({losses / n_simulations:.2%})\")\n",
        "    print(f\"Ties: {ties} ({ties / n_simulations:.2%})\")\n",
        "\n",
        "if __name__ == \"__main__\":\n",
        "    monte_carlo_blackjack(NUM_SIMULATIONS)"
      ]
    }
  ]
}